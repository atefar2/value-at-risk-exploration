{
 "cells": [
  {
   "cell_type": "markdown",
   "metadata": {},
   "source": [
    "# Value at Risk Exploration"
   ]
  },
  {
   "cell_type": "markdown",
   "metadata": {},
   "source": [
    "## To what extent can Value at Risk serve as a reliable metric to gauge financial risk?\n",
    "Many financial institutions have experienced huge losses over the past decade, due to fraud, bad management or poor advice. Regardless of the contributing factors they all strive to avoid repeating the same mistakes again. Therefore, institutions employ mathematical models to gauge financial risk.\n",
    "\n",
    "Value at Risk (VaR) is an extremely popular mathematical model among corporate financial risk managers and an industry standard, to quantify the risk of financial assets. VaR is based on the probability of a possible loss over a specific time horizon in which this loss is expected to occur caused by adverse market movements (Simons, 2001).\n",
    "VaR is extremely appealing, because it breaks risk down into a single number. Hence, it is also comprehensible by people without an extensive background in risk management, such as executives or customers.\n",
    "\n",
    "However, as popularity of VaR increased criticism arose, too. The objective of this paper is to evaluate these critiques in order to determine whether Value at Risk can be used as a reliable metric to measure risk. There are countless different approaches to calculate VaR. In order to limit the scope of the paper the following methods shall be assessed: normal, hybrid and historical Value at Risk.\n",
    "    \n",
    "This paper will be based primarily on existing research. I’ll be using journals (from different databases) and technical literature. Existing approaches to calculate VaR and different perspectives will be explored. In order to test different theories I will apply these concepts and measure how well these three metrics perform against historical return information from a small sample of S&P 500 Stocks."
   ]
  },
  {
   "cell_type": "markdown",
   "metadata": {},
   "source": [
    "**Plan**\n",
    "\n",
    "I'll begin the exploration by loading and analyzing a single dataset and write the necessary functions. I'll then work on writing loops to evaluate multiple models at the same time.\n",
    "1. Import CSV File into Pandas Dataset\n",
    "2. Initial Data Exploration\n",
    "3. Preprocessing - calculating the Rate of Return\n",
    "4. Normal Value at Risk\n",
    "    * Calculate nVaR\n",
    "    * Analyze the number, frequency and magnitude of exceedances\n",
    "    * Compare and Contrast different nVaR confidence levels (99% & 95%)\n",
    "5. Modified Value at Risk\n",
    "    * Calculate mVaR\n",
    "    * Analyze the number, frequency and magnitude of exceedances\n",
    "    * Compare and Contrast different nVaR confidence levels (99% & 95%) \n",
    "6. Historical Value at Risk\n",
    "    * Calculate hVaR\n",
    "    * Analyze the number, frequency and magnitude of exceedances\n",
    "    * Compare and Contrast different nVaR confidence levels (99%)  "
   ]
  },
  {
   "cell_type": "markdown",
   "metadata": {},
   "source": [
    "## Data Loading\n",
    "I'll begin my exploration with the analysis of the Amazon (AMZN) stock. I downloaded data on J"
   ]
  }
 ],
 "metadata": {
  "kernelspec": {
   "display_name": "Python 2",
   "language": "python",
   "name": "python2"
  },
  "language_info": {
   "codemirror_mode": {
    "name": "ipython",
    "version": 2
   },
   "file_extension": ".py",
   "mimetype": "text/x-python",
   "name": "python",
   "nbconvert_exporter": "python",
   "pygments_lexer": "ipython2",
   "version": "2.7.11"
  }
 },
 "nbformat": 4,
 "nbformat_minor": 0
}
